{
 "cells": [
  {
   "cell_type": "code",
   "execution_count": 5,
   "id": "d44c9f3c",
   "metadata": {},
   "outputs": [
    {
     "data": {
      "text/plain": [
       "\"['o', 'n']\""
      ]
     },
     "execution_count": 5,
     "metadata": {},
     "output_type": "execute_result"
    }
   ],
   "source": [
    "a =['o','n']\n",
    "\n",
    "\n",
    "s = \n"
   ]
  },
  {
   "cell_type": "code",
   "execution_count": 32,
   "id": "7404ca6d",
   "metadata": {},
   "outputs": [
    {
     "name": "stdout",
     "output_type": "stream",
     "text": [
      "['o', 'n', 'k', 'a', 'r']\n",
      "['o', 'a']\n",
      "['o', 'a']\n",
      "o\n",
      "n\n",
      "k\n",
      "a\n",
      "r\n"
     ]
    },
    {
     "data": {
      "text/plain": [
       "'ankor'"
      ]
     },
     "execution_count": 32,
     "metadata": {},
     "output_type": "execute_result"
    }
   ],
   "source": [
    "        s = \"onkar\"\n",
    "        n = len(s)\n",
    "        l = []\n",
    "        m = list(s)\n",
    "        print(m)\n",
    "        for i in range(n):\n",
    "            if s[i]==\"a\" or s[i]=='e' or s[i]=='i' or s[i]=='o' or s[i]=='u' or s[i]=='A' or s[i]=='E' or s[i]=='I' or s[i]=='O' or s[i]=='U' :\n",
    "                l.append(s[i])\n",
    "        ll = l.copy()\n",
    "        print(ll)\n",
    "        print(l)\n",
    "        k = \"\"\n",
    "        for j in range(n):\n",
    "            print(m[j])\n",
    "            if (m[j] in ll):\n",
    "                m[j] = l.pop()\n",
    "            k = k + m[j]\n",
    "            \n",
    "        k"
   ]
  },
  {
   "cell_type": "code",
   "execution_count": null,
   "id": "0e5a1c25",
   "metadata": {},
   "outputs": [],
   "source": []
  },
  {
   "cell_type": "code",
   "execution_count": null,
   "id": "e18070c6",
   "metadata": {},
   "outputs": [],
   "source": []
  },
  {
   "cell_type": "code",
   "execution_count": null,
   "id": "fd7bbd28",
   "metadata": {},
   "outputs": [],
   "source": [
    "\n"
   ]
  },
  {
   "cell_type": "code",
   "execution_count": null,
   "id": "970d7717",
   "metadata": {},
   "outputs": [],
   "source": []
  },
  {
   "cell_type": "code",
   "execution_count": null,
   "id": "ab4ad775",
   "metadata": {},
   "outputs": [],
   "source": []
  },
  {
   "cell_type": "code",
   "execution_count": null,
   "id": "37280290",
   "metadata": {},
   "outputs": [],
   "source": []
  },
  {
   "cell_type": "code",
   "execution_count": null,
   "id": "b86b2978",
   "metadata": {},
   "outputs": [],
   "source": []
  },
  {
   "cell_type": "code",
   "execution_count": null,
   "id": "65cfd655",
   "metadata": {},
   "outputs": [],
   "source": []
  },
  {
   "cell_type": "code",
   "execution_count": null,
   "id": "935d8c4d",
   "metadata": {},
   "outputs": [],
   "source": [
    "\n"
   ]
  }
 ],
 "metadata": {
  "kernelspec": {
   "display_name": "Python 3 (ipykernel)",
   "language": "python",
   "name": "python3"
  },
  "language_info": {
   "codemirror_mode": {
    "name": "ipython",
    "version": 3
   },
   "file_extension": ".py",
   "mimetype": "text/x-python",
   "name": "python",
   "nbconvert_exporter": "python",
   "pygments_lexer": "ipython3",
   "version": "3.10.8"
  }
 },
 "nbformat": 4,
 "nbformat_minor": 5
}
